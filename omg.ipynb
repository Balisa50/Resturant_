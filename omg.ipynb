{
 "cells": [
  {
   "cell_type": "code",
   "execution_count": 112,
   "id": "746cbb27-4494-4a97-947f-cfad4248b6dd",
   "metadata": {
    "scrolled": true
   },
   "outputs": [
    {
     "data": {
      "text/html": [
       "<div>\n",
       "<style scoped>\n",
       "    .dataframe tbody tr th:only-of-type {\n",
       "        vertical-align: middle;\n",
       "    }\n",
       "\n",
       "    .dataframe tbody tr th {\n",
       "        vertical-align: top;\n",
       "    }\n",
       "\n",
       "    .dataframe thead th {\n",
       "        text-align: right;\n",
       "    }\n",
       "</style>\n",
       "<table border=\"1\" class=\"dataframe\">\n",
       "  <thead>\n",
       "    <tr style=\"text-align: right;\">\n",
       "      <th></th>\n",
       "      <th>Restaurant ID</th>\n",
       "      <th>Restaurant Name</th>\n",
       "      <th>Country Code</th>\n",
       "      <th>City</th>\n",
       "      <th>Address</th>\n",
       "      <th>Locality</th>\n",
       "      <th>Locality Verbose</th>\n",
       "      <th>Longitude</th>\n",
       "      <th>Latitude</th>\n",
       "      <th>Cuisines</th>\n",
       "      <th>...</th>\n",
       "      <th>Currency</th>\n",
       "      <th>Has Table booking</th>\n",
       "      <th>Has Online delivery</th>\n",
       "      <th>Is delivering now</th>\n",
       "      <th>Switch to order menu</th>\n",
       "      <th>Price range</th>\n",
       "      <th>Aggregate rating</th>\n",
       "      <th>Rating color</th>\n",
       "      <th>Rating text</th>\n",
       "      <th>Votes</th>\n",
       "    </tr>\n",
       "  </thead>\n",
       "  <tbody>\n",
       "    <tr>\n",
       "      <th>0</th>\n",
       "      <td>6317637</td>\n",
       "      <td>Le Petit Souffle</td>\n",
       "      <td>162</td>\n",
       "      <td>Makati City</td>\n",
       "      <td>Third Floor, Century City Mall, Kalayaan Avenu...</td>\n",
       "      <td>Century City Mall, Poblacion, Makati City</td>\n",
       "      <td>Century City Mall, Poblacion, Makati City, Mak...</td>\n",
       "      <td>121.03</td>\n",
       "      <td>14.57</td>\n",
       "      <td>French, Japanese, Desserts</td>\n",
       "      <td>...</td>\n",
       "      <td>Botswana Pula(P)</td>\n",
       "      <td>Yes</td>\n",
       "      <td>No</td>\n",
       "      <td>No</td>\n",
       "      <td>No</td>\n",
       "      <td>3</td>\n",
       "      <td>4.80</td>\n",
       "      <td>Dark Green</td>\n",
       "      <td>Excellent</td>\n",
       "      <td>314</td>\n",
       "    </tr>\n",
       "    <tr>\n",
       "      <th>1</th>\n",
       "      <td>6304287</td>\n",
       "      <td>Izakaya Kikufuji</td>\n",
       "      <td>162</td>\n",
       "      <td>Makati City</td>\n",
       "      <td>Little Tokyo, 2277 Chino Roces Avenue, Legaspi...</td>\n",
       "      <td>Little Tokyo, Legaspi Village, Makati City</td>\n",
       "      <td>Little Tokyo, Legaspi Village, Makati City, Ma...</td>\n",
       "      <td>121.01</td>\n",
       "      <td>14.55</td>\n",
       "      <td>Japanese</td>\n",
       "      <td>...</td>\n",
       "      <td>Botswana Pula(P)</td>\n",
       "      <td>Yes</td>\n",
       "      <td>No</td>\n",
       "      <td>No</td>\n",
       "      <td>No</td>\n",
       "      <td>3</td>\n",
       "      <td>4.50</td>\n",
       "      <td>Dark Green</td>\n",
       "      <td>Excellent</td>\n",
       "      <td>591</td>\n",
       "    </tr>\n",
       "    <tr>\n",
       "      <th>2</th>\n",
       "      <td>6300002</td>\n",
       "      <td>Heat - Edsa Shangri-La</td>\n",
       "      <td>162</td>\n",
       "      <td>Mandaluyong City</td>\n",
       "      <td>Edsa Shangri-La, 1 Garden Way, Ortigas, Mandal...</td>\n",
       "      <td>Edsa Shangri-La, Ortigas, Mandaluyong City</td>\n",
       "      <td>Edsa Shangri-La, Ortigas, Mandaluyong City, Ma...</td>\n",
       "      <td>121.06</td>\n",
       "      <td>14.58</td>\n",
       "      <td>Seafood, Asian, Filipino, Indian</td>\n",
       "      <td>...</td>\n",
       "      <td>Botswana Pula(P)</td>\n",
       "      <td>Yes</td>\n",
       "      <td>No</td>\n",
       "      <td>No</td>\n",
       "      <td>No</td>\n",
       "      <td>4</td>\n",
       "      <td>4.40</td>\n",
       "      <td>Green</td>\n",
       "      <td>Very Good</td>\n",
       "      <td>270</td>\n",
       "    </tr>\n",
       "    <tr>\n",
       "      <th>3</th>\n",
       "      <td>6318506</td>\n",
       "      <td>Ooma</td>\n",
       "      <td>162</td>\n",
       "      <td>Mandaluyong City</td>\n",
       "      <td>Third Floor, Mega Fashion Hall, SM Megamall, O...</td>\n",
       "      <td>SM Megamall, Ortigas, Mandaluyong City</td>\n",
       "      <td>SM Megamall, Ortigas, Mandaluyong City, Mandal...</td>\n",
       "      <td>121.06</td>\n",
       "      <td>14.59</td>\n",
       "      <td>Japanese, Sushi</td>\n",
       "      <td>...</td>\n",
       "      <td>Botswana Pula(P)</td>\n",
       "      <td>No</td>\n",
       "      <td>No</td>\n",
       "      <td>No</td>\n",
       "      <td>No</td>\n",
       "      <td>4</td>\n",
       "      <td>4.90</td>\n",
       "      <td>Dark Green</td>\n",
       "      <td>Excellent</td>\n",
       "      <td>365</td>\n",
       "    </tr>\n",
       "    <tr>\n",
       "      <th>4</th>\n",
       "      <td>6314302</td>\n",
       "      <td>Sambo Kojin</td>\n",
       "      <td>162</td>\n",
       "      <td>Mandaluyong City</td>\n",
       "      <td>Third Floor, Mega Atrium, SM Megamall, Ortigas...</td>\n",
       "      <td>SM Megamall, Ortigas, Mandaluyong City</td>\n",
       "      <td>SM Megamall, Ortigas, Mandaluyong City, Mandal...</td>\n",
       "      <td>121.06</td>\n",
       "      <td>14.58</td>\n",
       "      <td>Japanese, Korean</td>\n",
       "      <td>...</td>\n",
       "      <td>Botswana Pula(P)</td>\n",
       "      <td>Yes</td>\n",
       "      <td>No</td>\n",
       "      <td>No</td>\n",
       "      <td>No</td>\n",
       "      <td>4</td>\n",
       "      <td>4.80</td>\n",
       "      <td>Dark Green</td>\n",
       "      <td>Excellent</td>\n",
       "      <td>229</td>\n",
       "    </tr>\n",
       "    <tr>\n",
       "      <th>...</th>\n",
       "      <td>...</td>\n",
       "      <td>...</td>\n",
       "      <td>...</td>\n",
       "      <td>...</td>\n",
       "      <td>...</td>\n",
       "      <td>...</td>\n",
       "      <td>...</td>\n",
       "      <td>...</td>\n",
       "      <td>...</td>\n",
       "      <td>...</td>\n",
       "      <td>...</td>\n",
       "      <td>...</td>\n",
       "      <td>...</td>\n",
       "      <td>...</td>\n",
       "      <td>...</td>\n",
       "      <td>...</td>\n",
       "      <td>...</td>\n",
       "      <td>...</td>\n",
       "      <td>...</td>\n",
       "      <td>...</td>\n",
       "      <td>...</td>\n",
       "    </tr>\n",
       "    <tr>\n",
       "      <th>9546</th>\n",
       "      <td>5915730</td>\n",
       "      <td>Naml۱ Gurme</td>\n",
       "      <td>208</td>\n",
       "      <td>��stanbul</td>\n",
       "      <td>Kemanke�� Karamustafa Pa��a Mahallesi, R۱ht۱m ...</td>\n",
       "      <td>Karak�_y</td>\n",
       "      <td>Karak�_y, ��stanbul</td>\n",
       "      <td>28.98</td>\n",
       "      <td>41.02</td>\n",
       "      <td>Turkish</td>\n",
       "      <td>...</td>\n",
       "      <td>Turkish Lira(TL)</td>\n",
       "      <td>No</td>\n",
       "      <td>No</td>\n",
       "      <td>No</td>\n",
       "      <td>No</td>\n",
       "      <td>3</td>\n",
       "      <td>4.10</td>\n",
       "      <td>Green</td>\n",
       "      <td>Very Good</td>\n",
       "      <td>788</td>\n",
       "    </tr>\n",
       "    <tr>\n",
       "      <th>9547</th>\n",
       "      <td>5908749</td>\n",
       "      <td>Ceviz A��ac۱</td>\n",
       "      <td>208</td>\n",
       "      <td>��stanbul</td>\n",
       "      <td>Ko��uyolu Mahallesi, Muhittin ��st�_nda�� Cadd...</td>\n",
       "      <td>Ko��uyolu</td>\n",
       "      <td>Ko��uyolu, ��stanbul</td>\n",
       "      <td>29.04</td>\n",
       "      <td>41.01</td>\n",
       "      <td>World Cuisine, Patisserie, Cafe</td>\n",
       "      <td>...</td>\n",
       "      <td>Turkish Lira(TL)</td>\n",
       "      <td>No</td>\n",
       "      <td>No</td>\n",
       "      <td>No</td>\n",
       "      <td>No</td>\n",
       "      <td>3</td>\n",
       "      <td>4.20</td>\n",
       "      <td>Green</td>\n",
       "      <td>Very Good</td>\n",
       "      <td>1034</td>\n",
       "    </tr>\n",
       "    <tr>\n",
       "      <th>9548</th>\n",
       "      <td>5915807</td>\n",
       "      <td>Huqqa</td>\n",
       "      <td>208</td>\n",
       "      <td>��stanbul</td>\n",
       "      <td>Kuru�_e��me Mahallesi, Muallim Naci Caddesi, N...</td>\n",
       "      <td>Kuru�_e��me</td>\n",
       "      <td>Kuru�_e��me, ��stanbul</td>\n",
       "      <td>29.03</td>\n",
       "      <td>41.06</td>\n",
       "      <td>Italian, World Cuisine</td>\n",
       "      <td>...</td>\n",
       "      <td>Turkish Lira(TL)</td>\n",
       "      <td>No</td>\n",
       "      <td>No</td>\n",
       "      <td>No</td>\n",
       "      <td>No</td>\n",
       "      <td>4</td>\n",
       "      <td>3.70</td>\n",
       "      <td>Yellow</td>\n",
       "      <td>Good</td>\n",
       "      <td>661</td>\n",
       "    </tr>\n",
       "    <tr>\n",
       "      <th>9549</th>\n",
       "      <td>5916112</td>\n",
       "      <td>A���k Kahve</td>\n",
       "      <td>208</td>\n",
       "      <td>��stanbul</td>\n",
       "      <td>Kuru�_e��me Mahallesi, Muallim Naci Caddesi, N...</td>\n",
       "      <td>Kuru�_e��me</td>\n",
       "      <td>Kuru�_e��me, ��stanbul</td>\n",
       "      <td>29.04</td>\n",
       "      <td>41.06</td>\n",
       "      <td>Restaurant Cafe</td>\n",
       "      <td>...</td>\n",
       "      <td>Turkish Lira(TL)</td>\n",
       "      <td>No</td>\n",
       "      <td>No</td>\n",
       "      <td>No</td>\n",
       "      <td>No</td>\n",
       "      <td>4</td>\n",
       "      <td>4.00</td>\n",
       "      <td>Green</td>\n",
       "      <td>Very Good</td>\n",
       "      <td>901</td>\n",
       "    </tr>\n",
       "    <tr>\n",
       "      <th>9550</th>\n",
       "      <td>5927402</td>\n",
       "      <td>Walter's Coffee Roastery</td>\n",
       "      <td>208</td>\n",
       "      <td>��stanbul</td>\n",
       "      <td>Cafea��a Mahallesi, Bademalt۱ Sokak, No 21/B, ...</td>\n",
       "      <td>Moda</td>\n",
       "      <td>Moda, ��stanbul</td>\n",
       "      <td>29.03</td>\n",
       "      <td>40.98</td>\n",
       "      <td>Cafe</td>\n",
       "      <td>...</td>\n",
       "      <td>Turkish Lira(TL)</td>\n",
       "      <td>No</td>\n",
       "      <td>No</td>\n",
       "      <td>No</td>\n",
       "      <td>No</td>\n",
       "      <td>2</td>\n",
       "      <td>4.00</td>\n",
       "      <td>Green</td>\n",
       "      <td>Very Good</td>\n",
       "      <td>591</td>\n",
       "    </tr>\n",
       "  </tbody>\n",
       "</table>\n",
       "<p>9551 rows × 21 columns</p>\n",
       "</div>"
      ],
      "text/plain": [
       "      Restaurant ID           Restaurant Name  Country Code              City  \\\n",
       "0           6317637          Le Petit Souffle           162       Makati City   \n",
       "1           6304287          Izakaya Kikufuji           162       Makati City   \n",
       "2           6300002    Heat - Edsa Shangri-La           162  Mandaluyong City   \n",
       "3           6318506                      Ooma           162  Mandaluyong City   \n",
       "4           6314302               Sambo Kojin           162  Mandaluyong City   \n",
       "...             ...                       ...           ...               ...   \n",
       "9546        5915730               Naml۱ Gurme           208         ��stanbul   \n",
       "9547        5908749              Ceviz A��ac۱           208         ��stanbul   \n",
       "9548        5915807                     Huqqa           208         ��stanbul   \n",
       "9549        5916112               A���k Kahve           208         ��stanbul   \n",
       "9550        5927402  Walter's Coffee Roastery           208         ��stanbul   \n",
       "\n",
       "                                                Address  \\\n",
       "0     Third Floor, Century City Mall, Kalayaan Avenu...   \n",
       "1     Little Tokyo, 2277 Chino Roces Avenue, Legaspi...   \n",
       "2     Edsa Shangri-La, 1 Garden Way, Ortigas, Mandal...   \n",
       "3     Third Floor, Mega Fashion Hall, SM Megamall, O...   \n",
       "4     Third Floor, Mega Atrium, SM Megamall, Ortigas...   \n",
       "...                                                 ...   \n",
       "9546  Kemanke�� Karamustafa Pa��a Mahallesi, R۱ht۱m ...   \n",
       "9547  Ko��uyolu Mahallesi, Muhittin ��st�_nda�� Cadd...   \n",
       "9548  Kuru�_e��me Mahallesi, Muallim Naci Caddesi, N...   \n",
       "9549  Kuru�_e��me Mahallesi, Muallim Naci Caddesi, N...   \n",
       "9550  Cafea��a Mahallesi, Bademalt۱ Sokak, No 21/B, ...   \n",
       "\n",
       "                                        Locality  \\\n",
       "0      Century City Mall, Poblacion, Makati City   \n",
       "1     Little Tokyo, Legaspi Village, Makati City   \n",
       "2     Edsa Shangri-La, Ortigas, Mandaluyong City   \n",
       "3         SM Megamall, Ortigas, Mandaluyong City   \n",
       "4         SM Megamall, Ortigas, Mandaluyong City   \n",
       "...                                          ...   \n",
       "9546                                    Karak�_y   \n",
       "9547                                   Ko��uyolu   \n",
       "9548                                 Kuru�_e��me   \n",
       "9549                                 Kuru�_e��me   \n",
       "9550                                        Moda   \n",
       "\n",
       "                                       Locality Verbose  Longitude  Latitude  \\\n",
       "0     Century City Mall, Poblacion, Makati City, Mak...     121.03     14.57   \n",
       "1     Little Tokyo, Legaspi Village, Makati City, Ma...     121.01     14.55   \n",
       "2     Edsa Shangri-La, Ortigas, Mandaluyong City, Ma...     121.06     14.58   \n",
       "3     SM Megamall, Ortigas, Mandaluyong City, Mandal...     121.06     14.59   \n",
       "4     SM Megamall, Ortigas, Mandaluyong City, Mandal...     121.06     14.58   \n",
       "...                                                 ...        ...       ...   \n",
       "9546                                Karak�_y, ��stanbul      28.98     41.02   \n",
       "9547                               Ko��uyolu, ��stanbul      29.04     41.01   \n",
       "9548                             Kuru�_e��me, ��stanbul      29.03     41.06   \n",
       "9549                             Kuru�_e��me, ��stanbul      29.04     41.06   \n",
       "9550                                    Moda, ��stanbul      29.03     40.98   \n",
       "\n",
       "                              Cuisines  ...          Currency  \\\n",
       "0           French, Japanese, Desserts  ...  Botswana Pula(P)   \n",
       "1                             Japanese  ...  Botswana Pula(P)   \n",
       "2     Seafood, Asian, Filipino, Indian  ...  Botswana Pula(P)   \n",
       "3                      Japanese, Sushi  ...  Botswana Pula(P)   \n",
       "4                     Japanese, Korean  ...  Botswana Pula(P)   \n",
       "...                                ...  ...               ...   \n",
       "9546                           Turkish  ...  Turkish Lira(TL)   \n",
       "9547   World Cuisine, Patisserie, Cafe  ...  Turkish Lira(TL)   \n",
       "9548            Italian, World Cuisine  ...  Turkish Lira(TL)   \n",
       "9549                   Restaurant Cafe  ...  Turkish Lira(TL)   \n",
       "9550                              Cafe  ...  Turkish Lira(TL)   \n",
       "\n",
       "     Has Table booking Has Online delivery Is delivering now  \\\n",
       "0                  Yes                  No                No   \n",
       "1                  Yes                  No                No   \n",
       "2                  Yes                  No                No   \n",
       "3                   No                  No                No   \n",
       "4                  Yes                  No                No   \n",
       "...                ...                 ...               ...   \n",
       "9546                No                  No                No   \n",
       "9547                No                  No                No   \n",
       "9548                No                  No                No   \n",
       "9549                No                  No                No   \n",
       "9550                No                  No                No   \n",
       "\n",
       "     Switch to order menu Price range  Aggregate rating  Rating color  \\\n",
       "0                      No           3              4.80    Dark Green   \n",
       "1                      No           3              4.50    Dark Green   \n",
       "2                      No           4              4.40         Green   \n",
       "3                      No           4              4.90    Dark Green   \n",
       "4                      No           4              4.80    Dark Green   \n",
       "...                   ...         ...               ...           ...   \n",
       "9546                   No           3              4.10         Green   \n",
       "9547                   No           3              4.20         Green   \n",
       "9548                   No           4              3.70        Yellow   \n",
       "9549                   No           4              4.00         Green   \n",
       "9550                   No           2              4.00         Green   \n",
       "\n",
       "     Rating text Votes  \n",
       "0      Excellent   314  \n",
       "1      Excellent   591  \n",
       "2      Very Good   270  \n",
       "3      Excellent   365  \n",
       "4      Excellent   229  \n",
       "...          ...   ...  \n",
       "9546   Very Good   788  \n",
       "9547   Very Good  1034  \n",
       "9548        Good   661  \n",
       "9549   Very Good   901  \n",
       "9550   Very Good   591  \n",
       "\n",
       "[9551 rows x 21 columns]"
      ]
     },
     "execution_count": 112,
     "metadata": {},
     "output_type": "execute_result"
    }
   ],
   "source": [
    "import pandas as pd\n",
    "import numpy as np\n",
    "import matplotlib.pyplot as plt\n",
    "import seaborn as sns\n",
    "link =\"https://raw.githubusercontent.com/Oyeniran20/axia_class_cohort_7/refs/heads/main/Dataset%20.csv\"\n",
    "df = pd.read_csv(link)\n",
    "df"
   ]
  },
  {
   "cell_type": "code",
   "execution_count": 113,
   "id": "fc016fa5-9d9d-4c25-b954-5714ab08d639",
   "metadata": {},
   "outputs": [
    {
     "data": {
      "text/plain": [
       "(9551, 21)"
      ]
     },
     "execution_count": 113,
     "metadata": {},
     "output_type": "execute_result"
    }
   ],
   "source": [
    "df.shape"
   ]
  },
  {
   "cell_type": "code",
   "execution_count": 134,
   "id": "f6212aee-2ae1-4b47-8c39-e786cac5ea91",
   "metadata": {},
   "outputs": [
    {
     "data": {
      "text/html": [
       "<div>\n",
       "<style scoped>\n",
       "    .dataframe tbody tr th:only-of-type {\n",
       "        vertical-align: middle;\n",
       "    }\n",
       "\n",
       "    .dataframe tbody tr th {\n",
       "        vertical-align: top;\n",
       "    }\n",
       "\n",
       "    .dataframe thead th {\n",
       "        text-align: right;\n",
       "    }\n",
       "</style>\n",
       "<table border=\"1\" class=\"dataframe\">\n",
       "  <thead>\n",
       "    <tr style=\"text-align: right;\">\n",
       "      <th></th>\n",
       "      <th>count</th>\n",
       "      <th>unique</th>\n",
       "      <th>top</th>\n",
       "      <th>freq</th>\n",
       "    </tr>\n",
       "  </thead>\n",
       "  <tbody>\n",
       "    <tr>\n",
       "      <th>Restaurant Name</th>\n",
       "      <td>3</td>\n",
       "      <td>3</td>\n",
       "      <td>Le Petit Souffle</td>\n",
       "      <td>1</td>\n",
       "    </tr>\n",
       "    <tr>\n",
       "      <th>City</th>\n",
       "      <td>3</td>\n",
       "      <td>2</td>\n",
       "      <td>Makati City</td>\n",
       "      <td>2</td>\n",
       "    </tr>\n",
       "    <tr>\n",
       "      <th>Address</th>\n",
       "      <td>3</td>\n",
       "      <td>3</td>\n",
       "      <td>Third Floor, Century City Mall, Kalayaan Avenu...</td>\n",
       "      <td>1</td>\n",
       "    </tr>\n",
       "    <tr>\n",
       "      <th>Locality</th>\n",
       "      <td>3</td>\n",
       "      <td>3</td>\n",
       "      <td>Century City Mall, Poblacion, Makati City</td>\n",
       "      <td>1</td>\n",
       "    </tr>\n",
       "    <tr>\n",
       "      <th>Locality Verbose</th>\n",
       "      <td>3</td>\n",
       "      <td>3</td>\n",
       "      <td>Century City Mall, Poblacion, Makati City, Mak...</td>\n",
       "      <td>1</td>\n",
       "    </tr>\n",
       "    <tr>\n",
       "      <th>Cuisines</th>\n",
       "      <td>3</td>\n",
       "      <td>3</td>\n",
       "      <td>French, Japanese, Desserts</td>\n",
       "      <td>1</td>\n",
       "    </tr>\n",
       "    <tr>\n",
       "      <th>Currency</th>\n",
       "      <td>3</td>\n",
       "      <td>1</td>\n",
       "      <td>Botswana Pula(P)</td>\n",
       "      <td>3</td>\n",
       "    </tr>\n",
       "    <tr>\n",
       "      <th>Has Table booking</th>\n",
       "      <td>3</td>\n",
       "      <td>1</td>\n",
       "      <td>Yes</td>\n",
       "      <td>3</td>\n",
       "    </tr>\n",
       "    <tr>\n",
       "      <th>Has Online delivery</th>\n",
       "      <td>3</td>\n",
       "      <td>1</td>\n",
       "      <td>No</td>\n",
       "      <td>3</td>\n",
       "    </tr>\n",
       "    <tr>\n",
       "      <th>Is delivering now</th>\n",
       "      <td>3</td>\n",
       "      <td>1</td>\n",
       "      <td>No</td>\n",
       "      <td>3</td>\n",
       "    </tr>\n",
       "    <tr>\n",
       "      <th>Switch to order menu</th>\n",
       "      <td>3</td>\n",
       "      <td>1</td>\n",
       "      <td>No</td>\n",
       "      <td>3</td>\n",
       "    </tr>\n",
       "    <tr>\n",
       "      <th>Rating color</th>\n",
       "      <td>3</td>\n",
       "      <td>2</td>\n",
       "      <td>Dark Green</td>\n",
       "      <td>2</td>\n",
       "    </tr>\n",
       "    <tr>\n",
       "      <th>Rating text</th>\n",
       "      <td>3</td>\n",
       "      <td>2</td>\n",
       "      <td>Excellent</td>\n",
       "      <td>2</td>\n",
       "    </tr>\n",
       "  </tbody>\n",
       "</table>\n",
       "</div>"
      ],
      "text/plain": [
       "                     count unique  \\\n",
       "Restaurant Name          3      3   \n",
       "City                     3      2   \n",
       "Address                  3      3   \n",
       "Locality                 3      3   \n",
       "Locality Verbose         3      3   \n",
       "Cuisines                 3      3   \n",
       "Currency                 3      1   \n",
       "Has Table booking        3      1   \n",
       "Has Online delivery      3      1   \n",
       "Is delivering now        3      1   \n",
       "Switch to order menu     3      1   \n",
       "Rating color             3      2   \n",
       "Rating text              3      2   \n",
       "\n",
       "                                                                    top freq  \n",
       "Restaurant Name                                        Le Petit Souffle    1  \n",
       "City                                                        Makati City    2  \n",
       "Address               Third Floor, Century City Mall, Kalayaan Avenu...    1  \n",
       "Locality                      Century City Mall, Poblacion, Makati City    1  \n",
       "Locality Verbose      Century City Mall, Poblacion, Makati City, Mak...    1  \n",
       "Cuisines                                     French, Japanese, Desserts    1  \n",
       "Currency                                               Botswana Pula(P)    3  \n",
       "Has Table booking                                                   Yes    3  \n",
       "Has Online delivery                                                  No    3  \n",
       "Is delivering now                                                    No    3  \n",
       "Switch to order menu                                                 No    3  \n",
       "Rating color                                                 Dark Green    2  \n",
       "Rating text                                                   Excellent    2  "
      ]
     },
     "execution_count": 134,
     "metadata": {},
     "output_type": "execute_result"
    }
   ],
   "source": [
    "df.describe(include=['object']).T"
   ]
  },
  {
   "cell_type": "code",
   "execution_count": 115,
   "id": "2b2bb957-ee2e-463e-8d4c-1f07a0104d92",
   "metadata": {},
   "outputs": [
    {
     "name": "stdout",
     "output_type": "stream",
     "text": [
      "<class 'pandas.core.frame.DataFrame'>\n",
      "RangeIndex: 9551 entries, 0 to 9550\n",
      "Data columns (total 21 columns):\n",
      " #   Column                Non-Null Count  Dtype  \n",
      "---  ------                --------------  -----  \n",
      " 0   Restaurant ID         9551 non-null   int64  \n",
      " 1   Restaurant Name       9551 non-null   object \n",
      " 2   Country Code          9551 non-null   int64  \n",
      " 3   City                  9551 non-null   object \n",
      " 4   Address               9551 non-null   object \n",
      " 5   Locality              9551 non-null   object \n",
      " 6   Locality Verbose      9551 non-null   object \n",
      " 7   Longitude             9551 non-null   float64\n",
      " 8   Latitude              9551 non-null   float64\n",
      " 9   Cuisines              9542 non-null   object \n",
      " 10  Average Cost for two  9551 non-null   int64  \n",
      " 11  Currency              9551 non-null   object \n",
      " 12  Has Table booking     9551 non-null   object \n",
      " 13  Has Online delivery   9551 non-null   object \n",
      " 14  Is delivering now     9551 non-null   object \n",
      " 15  Switch to order menu  9551 non-null   object \n",
      " 16  Price range           9551 non-null   int64  \n",
      " 17  Aggregate rating      9551 non-null   float64\n",
      " 18  Rating color          9551 non-null   object \n",
      " 19  Rating text           9551 non-null   object \n",
      " 20  Votes                 9551 non-null   int64  \n",
      "dtypes: float64(3), int64(5), object(13)\n",
      "memory usage: 1.5+ MB\n"
     ]
    },
    {
     "data": {
      "text/html": [
       "<div>\n",
       "<style scoped>\n",
       "    .dataframe tbody tr th:only-of-type {\n",
       "        vertical-align: middle;\n",
       "    }\n",
       "\n",
       "    .dataframe tbody tr th {\n",
       "        vertical-align: top;\n",
       "    }\n",
       "\n",
       "    .dataframe thead th {\n",
       "        text-align: right;\n",
       "    }\n",
       "</style>\n",
       "<table border=\"1\" class=\"dataframe\">\n",
       "  <thead>\n",
       "    <tr style=\"text-align: right;\">\n",
       "      <th></th>\n",
       "      <th>count</th>\n",
       "      <th>mean</th>\n",
       "      <th>std</th>\n",
       "      <th>min</th>\n",
       "      <th>25%</th>\n",
       "      <th>50%</th>\n",
       "      <th>75%</th>\n",
       "      <th>max</th>\n",
       "    </tr>\n",
       "  </thead>\n",
       "  <tbody>\n",
       "    <tr>\n",
       "      <th>Restaurant ID</th>\n",
       "      <td>9551.00</td>\n",
       "      <td>9051128.35</td>\n",
       "      <td>8791521.28</td>\n",
       "      <td>53.00</td>\n",
       "      <td>301962.50</td>\n",
       "      <td>6004089.00</td>\n",
       "      <td>18352291.50</td>\n",
       "      <td>18500652.00</td>\n",
       "    </tr>\n",
       "    <tr>\n",
       "      <th>Country Code</th>\n",
       "      <td>9551.00</td>\n",
       "      <td>18.37</td>\n",
       "      <td>56.75</td>\n",
       "      <td>1.00</td>\n",
       "      <td>1.00</td>\n",
       "      <td>1.00</td>\n",
       "      <td>1.00</td>\n",
       "      <td>216.00</td>\n",
       "    </tr>\n",
       "    <tr>\n",
       "      <th>Longitude</th>\n",
       "      <td>9551.00</td>\n",
       "      <td>64.13</td>\n",
       "      <td>41.47</td>\n",
       "      <td>-157.95</td>\n",
       "      <td>77.08</td>\n",
       "      <td>77.19</td>\n",
       "      <td>77.28</td>\n",
       "      <td>174.83</td>\n",
       "    </tr>\n",
       "    <tr>\n",
       "      <th>Latitude</th>\n",
       "      <td>9551.00</td>\n",
       "      <td>25.85</td>\n",
       "      <td>11.01</td>\n",
       "      <td>-41.33</td>\n",
       "      <td>28.48</td>\n",
       "      <td>28.57</td>\n",
       "      <td>28.64</td>\n",
       "      <td>55.98</td>\n",
       "    </tr>\n",
       "    <tr>\n",
       "      <th>Average Cost for two</th>\n",
       "      <td>9551.00</td>\n",
       "      <td>1199.21</td>\n",
       "      <td>16121.18</td>\n",
       "      <td>0.00</td>\n",
       "      <td>250.00</td>\n",
       "      <td>400.00</td>\n",
       "      <td>700.00</td>\n",
       "      <td>800000.00</td>\n",
       "    </tr>\n",
       "    <tr>\n",
       "      <th>Price range</th>\n",
       "      <td>9551.00</td>\n",
       "      <td>1.80</td>\n",
       "      <td>0.91</td>\n",
       "      <td>1.00</td>\n",
       "      <td>1.00</td>\n",
       "      <td>2.00</td>\n",
       "      <td>2.00</td>\n",
       "      <td>4.00</td>\n",
       "    </tr>\n",
       "    <tr>\n",
       "      <th>Aggregate rating</th>\n",
       "      <td>9551.00</td>\n",
       "      <td>2.67</td>\n",
       "      <td>1.52</td>\n",
       "      <td>0.00</td>\n",
       "      <td>2.50</td>\n",
       "      <td>3.20</td>\n",
       "      <td>3.70</td>\n",
       "      <td>4.90</td>\n",
       "    </tr>\n",
       "    <tr>\n",
       "      <th>Votes</th>\n",
       "      <td>9551.00</td>\n",
       "      <td>156.91</td>\n",
       "      <td>430.17</td>\n",
       "      <td>0.00</td>\n",
       "      <td>5.00</td>\n",
       "      <td>31.00</td>\n",
       "      <td>131.00</td>\n",
       "      <td>10934.00</td>\n",
       "    </tr>\n",
       "  </tbody>\n",
       "</table>\n",
       "</div>"
      ],
      "text/plain": [
       "                       count       mean        std     min       25%  \\\n",
       "Restaurant ID        9551.00 9051128.35 8791521.28   53.00 301962.50   \n",
       "Country Code         9551.00      18.37      56.75    1.00      1.00   \n",
       "Longitude            9551.00      64.13      41.47 -157.95     77.08   \n",
       "Latitude             9551.00      25.85      11.01  -41.33     28.48   \n",
       "Average Cost for two 9551.00    1199.21   16121.18    0.00    250.00   \n",
       "Price range          9551.00       1.80       0.91    1.00      1.00   \n",
       "Aggregate rating     9551.00       2.67       1.52    0.00      2.50   \n",
       "Votes                9551.00     156.91     430.17    0.00      5.00   \n",
       "\n",
       "                            50%         75%         max  \n",
       "Restaurant ID        6004089.00 18352291.50 18500652.00  \n",
       "Country Code               1.00        1.00      216.00  \n",
       "Longitude                 77.19       77.28      174.83  \n",
       "Latitude                  28.57       28.64       55.98  \n",
       "Average Cost for two     400.00      700.00   800000.00  \n",
       "Price range                2.00        2.00        4.00  \n",
       "Aggregate rating           3.20        3.70        4.90  \n",
       "Votes                     31.00      131.00    10934.00  "
      ]
     },
     "execution_count": 115,
     "metadata": {},
     "output_type": "execute_result"
    }
   ],
   "source": [
    "df.info()\n",
    "pd.set_option('display.float_format', '{:.2f}'.format)\n",
    "df.describe().T"
   ]
  },
  {
   "cell_type": "code",
   "execution_count": null,
   "id": "ac4ac1cc-274d-4fbd-8917-4ceaf4537ef8",
   "metadata": {},
   "outputs": [],
   "source": []
  },
  {
   "cell_type": "code",
   "execution_count": 166,
   "id": "83243aaf-8cb9-4a76-a07c-2281b0a2e718",
   "metadata": {},
   "outputs": [
    {
     "data": {
      "text/plain": [
       "Restaurant ID      0\n",
       "Restaurant Name    0\n",
       "Country Code       0\n",
       "City               0\n",
       "Address            0\n",
       "dtype: int64"
      ]
     },
     "execution_count": 166,
     "metadata": {},
     "output_type": "execute_result"
    }
   ],
   "source": [
    "df.isna().sum().head(5)"
   ]
  },
  {
   "cell_type": "code",
   "execution_count": 135,
   "id": "89a0a323-5c2b-4563-bda5-0836f93639f1",
   "metadata": {},
   "outputs": [
    {
     "data": {
      "text/plain": [
       "'French, Japanese, Desserts'"
      ]
     },
     "execution_count": 135,
     "metadata": {},
     "output_type": "execute_result"
    }
   ],
   "source": [
    "df['Cuisines'].mode()[0]"
   ]
  },
  {
   "cell_type": "code",
   "execution_count": 167,
   "id": "6f03b8e2-502d-48d9-bd53-991c2bc45b3b",
   "metadata": {},
   "outputs": [],
   "source": [
    "df = df.dropna().head(3)"
   ]
  },
  {
   "cell_type": "code",
   "execution_count": 168,
   "id": "f54c5578-ee05-41a4-af75-ef49bd44e1e6",
   "metadata": {},
   "outputs": [
    {
     "data": {
      "text/plain": [
       "0"
      ]
     },
     "execution_count": 168,
     "metadata": {},
     "output_type": "execute_result"
    }
   ],
   "source": [
    "df.isna().sum().sum()"
   ]
  },
  {
   "cell_type": "code",
   "execution_count": 170,
   "id": "7378e505-3784-416c-afbb-9ee15f5a1d72",
   "metadata": {},
   "outputs": [
    {
     "data": {
      "text/plain": [
       "Series([], Name: count, dtype: int64)"
      ]
     },
     "execution_count": 170,
     "metadata": {},
     "output_type": "execute_result"
    }
   ],
   "source": [
    "df['Cuisines'].value_counts()"
   ]
  },
  {
   "cell_type": "code",
   "execution_count": 171,
   "id": "f1902296-c9c4-4969-be54-27a3bd5b56e4",
   "metadata": {},
   "outputs": [
    {
     "data": {
      "text/plain": [
       "Series([], Name: count, dtype: int64)"
      ]
     },
     "execution_count": 171,
     "metadata": {},
     "output_type": "execute_result"
    }
   ],
   "source": [
    "df['City'].value_counts().head(5)"
   ]
  },
  {
   "cell_type": "code",
   "execution_count": null,
   "id": "8810659a-5b66-4923-9c21-00a364394446",
   "metadata": {},
   "outputs": [],
   "source": []
  },
  {
   "cell_type": "code",
   "execution_count": 172,
   "id": "eb562ac1-e139-4dc6-b1fe-63f1fe3fff12",
   "metadata": {},
   "outputs": [
    {
     "data": {
      "text/plain": [
       "0"
      ]
     },
     "execution_count": 172,
     "metadata": {},
     "output_type": "execute_result"
    }
   ],
   "source": [
    "df['Cuisines'].nunique()  # Number of unique cuisines  # Number of unique cities"
   ]
  },
  {
   "cell_type": "code",
   "execution_count": 173,
   "id": "d029f42b-d695-4230-878f-d398193fd515",
   "metadata": {},
   "outputs": [
    {
     "data": {
      "text/plain": [
       "0"
      ]
     },
     "execution_count": 173,
     "metadata": {},
     "output_type": "execute_result"
    }
   ],
   "source": [
    "df['City'].nunique() "
   ]
  },
  {
   "cell_type": "code",
   "execution_count": 174,
   "id": "3b1155e1-f551-4edd-9a15-8ac3b342e491",
   "metadata": {},
   "outputs": [
    {
     "data": {
      "text/plain": [
       "Cuisines    0\n",
       "City        0\n",
       "dtype: int64"
      ]
     },
     "execution_count": 174,
     "metadata": {},
     "output_type": "execute_result"
    }
   ],
   "source": [
    "df[['Cuisines', 'City']].isnull().sum()"
   ]
  },
  {
   "cell_type": "code",
   "execution_count": 175,
   "id": "503342c4-ce96-490e-9283-b74583c0beab",
   "metadata": {},
   "outputs": [
    {
     "data": {
      "text/plain": [
       "Series([], Name: Aggregate rating, dtype: float64)"
      ]
     },
     "execution_count": 175,
     "metadata": {},
     "output_type": "execute_result"
    }
   ],
   "source": [
    "df.groupby('Cuisines')['Aggregate rating'].mean().sort_values(ascending=False).head(10)"
   ]
  },
  {
   "cell_type": "code",
   "execution_count": 127,
   "id": "0d302880-ba87-4609-b7d0-f21de18f09f1",
   "metadata": {},
   "outputs": [
    {
     "data": {
      "image/png": "[encoded data removed]",
      "text/plain": [
       "<Figure size 1200x600 with 1 Axes>"
      ]
     },
     "metadata": {},
     "output_type": "display_data"
    }
   ],
   "source": [
    "plt.figure(figsize=(12, 6))\n",
    "sns.countplot(y=df['Cuisines'], order=df['Cuisines'].value_counts().index[:10])  # Top 10 cuisines\n",
    "plt.title(\"Top 10 Most Common Cuisines\")\n",
    "plt.show()"
   ]
  },
  {
   "cell_type": "code",
   "execution_count": null,
   "id": "0e3a185f-c51d-45be-bca8-f4771880823d",
   "metadata": {},
   "outputs": [],
   "source": []
  },
  {
   "cell_type": "code",
   "execution_count": null,
   "id": "829d54e5-8f3c-46f1-952e-ff8cebe3e37d",
   "metadata": {},
   "outputs": [],
   "source": []
  },
  {
   "cell_type": "code",
   "execution_count": 128,
   "id": "a3f0ca45-007d-49ad-bb90-ba68c83fd0b5",
   "metadata": {},
   "outputs": [
    {
     "data": {
      "image/png": "[encoded data removed]",
      "text/plain": [
       "<Figure size 900x600 with 1 Axes>"
      ]
     },
     "metadata": {},
     "output_type": "display_data"
    }
   ],
   "source": [
    "plt.figure(figsize=(9,6))\n",
    "sns.barplot(x=df['City'].value_counts().head(10).index, y=df['City'].value_counts().head(10).values)\n",
    "plt.xticks(rotation=45)\n",
    "plt.title(\"Top 10 Most Common Cities\")\n",
    "plt.show()\n"
   ]
  },
  {
   "cell_type": "code",
   "execution_count": 129,
   "id": "b23b3df7-b701-49f9-991b-4122e8e1753c",
   "metadata": {},
   "outputs": [
    {
     "data": {
      "text/plain": [
       "Index(['Restaurant ID', 'Country Code', 'Longitude', 'Latitude',\n",
       "       'Average Cost for two', 'Price range', 'Aggregate rating', 'Votes'],\n",
       "      dtype='object')"
      ]
     },
     "execution_count": 129,
     "metadata": {},
     "output_type": "execute_result"
    }
   ],
   "source": [
    "num_cols = df.select_dtypes(include=np.number).columns\n",
    "num_cols"
   ]
  },
  {
   "cell_type": "code",
   "execution_count": 130,
   "id": "10753f1f-d24d-4e11-8d45-5e874160cd15",
   "metadata": {},
   "outputs": [
    {
     "data": {
      "text/plain": [
       "Index(['Restaurant Name', 'City', 'Address', 'Locality', 'Locality Verbose',\n",
       "       'Cuisines', 'Currency', 'Has Table booking', 'Has Online delivery',\n",
       "       'Is delivering now', 'Switch to order menu', 'Rating color',\n",
       "       'Rating text'],\n",
       "      dtype='object')"
      ]
     },
     "execution_count": 130,
     "metadata": {},
     "output_type": "execute_result"
    }
   ],
   "source": [
    "cat_cols = df.select_dtypes(['object', 'category']).columns\n",
    "cat_cols"
   ]
  },
  {
   "cell_type": "code",
   "execution_count": 138,
   "id": "99982f64-4d09-4c01-85f7-b282f1430904",
   "metadata": {},
   "outputs": [
    {
     "name": "stdout",
     "output_type": "stream",
     "text": [
      "Restaurant ID \n",
      " Skew = 1.3188112593591155\n"
     ]
    },
    {
     "data": {
      "image/png": "[encoded data removed]",
      "text/plain": [
       "<Figure size 800x400 with 2 Axes>"
      ]
     },
     "metadata": {},
     "output_type": "display_data"
    },
    {
     "name": "stdout",
     "output_type": "stream",
     "text": [
      "Country Code \n",
      " Skew = 0.0\n"
     ]
    },
    {
     "data": {
      "image/png": "[encoded data removed]",
      "text/plain": [
       "<Figure size 800x400 with 2 Axes>"
      ]
     },
     "metadata": {},
     "output_type": "display_data"
    },
    {
     "name": "stdout",
     "output_type": "stream",
     "text": [
      "Longitude \n",
      " Skew = 1.0251543683758866\n"
     ]
    },
    {
     "data": {
      "image/png": "[encoded data removed]",
      "text/plain": [
       "<Figure size 800x400 with 2 Axes>"
      ]
     },
     "metadata": {},
     "output_type": "display_data"
    },
    {
     "name": "stdout",
     "output_type": "stream",
     "text": [
      "Latitude \n",
      " Skew = 0.45130755018209917\n"
     ]
    },
    {
     "data": {
      "image/png": "[encoded data removed]",
      "text/plain": [
       "<Figure size 800x400 with 2 Axes>"
      ]
     },
     "metadata": {},
     "output_type": "display_data"
    },
    {
     "name": "stdout",
     "output_type": "stream",
     "text": [
      "Average Cost for two \n",
      " Skew = 1.7248633241257958\n"
     ]
    },
    {
     "data": {
      "image/png": "[encoded data removed]",
      "text/plain": [
       "<Figure size 800x400 with 2 Axes>"
      ]
     },
     "metadata": {},
     "output_type": "display_data"
    },
    {
     "name": "stdout",
     "output_type": "stream",
     "text": [
      "Price range \n",
      " Skew = 1.732050807568875\n"
     ]
    },
    {
     "data": {
      "image/png": "[encoded data removed]",
      "text/plain": [
       "<Figure size 800x400 with 2 Axes>"
      ]
     },
     "metadata": {},
     "output_type": "display_data"
    },
    {
     "name": "stdout",
     "output_type": "stream",
     "text": [
      "Aggregate rating \n",
      " Skew = 1.293342780733373\n"
     ]
    },
    {
     "data": {
      "image/png": "[encoded data removed]",
      "text/plain": [
       "<Figure size 800x400 with 2 Axes>"
      ]
     },
     "metadata": {},
     "output_type": "display_data"
    },
    {
     "name": "stdout",
     "output_type": "stream",
     "text": [
      "Votes \n",
      " Skew = 1.6083171481701768\n"
     ]
    },
    {
     "data": {
      "image/png": "[encoded data removed]",
      "text/plain": [
       "<Figure size 800x400 with 2 Axes>"
      ]
     },
     "metadata": {},
     "output_type": "display_data"
    }
   ],
   "source": [
    "# loop through numerical columns\n",
    "for col in num_cols:\n",
    "    skewness = ddf[col].skew()\n",
    "    print(f'{col} \\n Skew = {skewness}')\n",
    "    plt.figure(figsize=(8,4))\n",
    "    plt.subplot(1, 2, 1)\n",
    "    sns.histplot(df[col], kde=True, bins=20)\n",
    "    plt.title(f'{col} Distribution')\n",
    "    plt.xlabel(col)\n",
    "    plt.ylabel(\"count\")\n",
    "\n",
    "    plt.subplot(1, 2, 2)\n",
    "    sns.boxplot(x=df[col], color= 'lightgreen')\n",
    "    plt.title(f'{col} Boxplot')\n",
    "    plt.xlabel(col)\n",
    "    plt.show()\n",
    "    plt.show()"
   ]
  },
  {
   "cell_type": "code",
   "execution_count": 139,
   "id": "28bd0706-4a0b-425f-96a7-bf3e08b0d590",
   "metadata": {},
   "outputs": [
    {
     "data": {
      "text/plain": [
       "Cuisines\n",
       "French       1\n",
       " Japanese    1\n",
       " Desserts    1\n",
       "Japanese     1\n",
       "Seafood      1\n",
       "Name: count, dtype: int64"
      ]
     },
     "execution_count": 139,
     "metadata": {},
     "output_type": "execute_result"
    }
   ],
   "source": [
    "df['Cuisines'].str.split(',').explode().value_counts().head(5)"
   ]
  },
  {
   "cell_type": "code",
   "execution_count": 141,
   "id": "76dcfa49-33b2-4690-83fe-a9206e1c8a33",
   "metadata": {},
   "outputs": [
    {
     "data": {
      "image/png": "[encoded data removed]",
      "text/plain": [
       "<Figure size 900x600 with 1 Axes>"
      ]
     },
     "metadata": {},
     "output_type": "display_data"
    }
   ],
   "source": [
    "cuisine_counts = df['Cuisines'].str.split(', ').explode().value_counts()\n",
    "\n",
    "plt.figure(figsize=(9, 6))\n",
    "sns.barplot(y=cuisine_counts.index[:10], x=cuisine_counts.values[:10])\n",
    "plt.xlabel(\"Count\")\n",
    "plt.ylabel(\"Cuisines\")\n",
    "plt.title(\"Top 10 Most Common Cuisines (Cleaned)\")\n",
    "plt.show()\n"
   ]
  },
  {
   "cell_type": "code",
   "execution_count": 2,
   "id": "a5e5d8c4-ad7c-4e05-b445-e9fee3790187",
   "metadata": {},
   "outputs": [
    {
     "name": "stdout",
     "output_type": "stream",
     "text": [
      "Defaulting to user installation because normal site-packages is not writeable\n",
      "Collecting geopandas\n",
      "  Downloading geopandas-1.0.1-py3-none-any.whl.metadata (2.2 kB)\n",
      "Collecting shapely\n",
      "  Downloading shapely-2.0.7-cp312-cp312-win_amd64.whl.metadata (7.1 kB)\n",
      "Requirement already satisfied: numpy>=1.22 in c:\\programdata\\anaconda3\\lib\\site-packages (from geopandas) (1.26.4)\n",
      "Collecting pyogrio>=0.7.2 (from geopandas)\n",
      "  Downloading pyogrio-0.10.0-cp312-cp312-win_amd64.whl.metadata (5.6 kB)\n",
      "Requirement already satisfied: packaging in c:\\users\\abdoulie balisa\\appdata\\roaming\\python\\python312\\site-packages (from geopandas) (24.2)\n",
      "Requirement already satisfied: pandas>=1.4.0 in c:\\programdata\\anaconda3\\lib\\site-packages (from geopandas) (2.2.2)\n",
      "Collecting pyproj>=3.3.0 (from geopandas)\n",
      "  Downloading pyproj-3.7.1-cp312-cp312-win_amd64.whl.metadata (31 kB)\n",
      "Requirement already satisfied: python-dateutil>=2.8.2 in c:\\users\\abdoulie balisa\\appdata\\roaming\\python\\python312\\site-packages (from pandas>=1.4.0->geopandas) (2.9.0.post0)\n",
      "Requirement already satisfied: pytz>=2020.1 in c:\\programdata\\anaconda3\\lib\\site-packages (from pandas>=1.4.0->geopandas) (2024.1)\n",
      "Requirement already satisfied: tzdata>=2022.7 in c:\\programdata\\anaconda3\\lib\\site-packages (from pandas>=1.4.0->geopandas) (2023.3)\n",
      "Requirement already satisfied: certifi in c:\\programdata\\anaconda3\\lib\\site-packages (from pyogrio>=0.7.2->geopandas) (2024.8.30)\n",
      "Requirement already satisfied: six>=1.5 in c:\\users\\abdoulie balisa\\appdata\\roaming\\python\\python312\\site-packages (from python-dateutil>=2.8.2->pandas>=1.4.0->geopandas) (1.17.0)\n",
      "Downloading geopandas-1.0.1-py3-none-any.whl (323 kB)\n",
      "Downloading shapely-2.0.7-cp312-cp312-win_amd64.whl (1.4 MB)\n",
      "   ---------------------------------------- 0.0/1.4 MB ? eta -:--:--\n",
      "   ------- -------------------------------- 0.3/1.4 MB ? eta -:--:--\n",
      "   -------------- ------------------------- 0.5/1.4 MB 1.7 MB/s eta 0:00:01\n",
      "   ----------------------------- ---------- 1.0/1.4 MB 1.6 MB/s eta 0:00:01\n",
      "   ------------------------------------ --- 1.3/1.4 MB 1.6 MB/s eta 0:00:01\n",
      "   ---------------------------------------- 1.4/1.4 MB 1.6 MB/s eta 0:00:00\n",
      "Downloading pyogrio-0.10.0-cp312-cp312-win_amd64.whl (16.2 MB)\n",
      "   ---------------------------------------- 0.0/16.2 MB ? eta -:--:--\n",
      "   ---------------------------------------- 0.0/16.2 MB ? eta -:--:--\n",
      "   ---------------------------------------- 0.0/16.2 MB ? eta -:--:--\n",
      "   ---------------------------------------- 0.0/16.2 MB ? eta -:--:--\n",
      "   ---------------------------------------- 0.0/16.2 MB ? eta -:--:--\n",
      "    --------------------------------------- 0.3/16.2 MB ? eta -:--:--\n",
      "    --------------------------------------- 0.3/16.2 MB ? eta -:--:--\n",
      "    --------------------------------------- 0.3/16.2 MB ? eta -:--:--\n",
      "   - -------------------------------------- 0.5/16.2 MB 541.6 kB/s eta 0:00:29\n",
      "   - -------------------------------------- 0.8/16.2 MB 745.8 kB/s eta 0:00:21\n",
      "   - -------------------------------------- 0.8/16.2 MB 745.8 kB/s eta 0:00:21\n",
      "   -- ------------------------------------- 1.0/16.2 MB 699.0 kB/s eta 0:00:22\n",
      "   --- ------------------------------------ 1.3/16.2 MB 754.4 kB/s eta 0:00:20\n",
      "   --- ------------------------------------ 1.6/16.2 MB 839.1 kB/s eta 0:00:18\n",
      "   ---- ----------------------------------- 1.8/16.2 MB 891.1 kB/s eta 0:00:17\n",
      "   ----- ---------------------------------- 2.1/16.2 MB 903.5 kB/s eta 0:00:16\n",
      "   ----- ---------------------------------- 2.1/16.2 MB 903.5 kB/s eta 0:00:16\n",
      "   ----- ---------------------------------- 2.4/16.2 MB 883.0 kB/s eta 0:00:16\n",
      "   ----- ---------------------------------- 2.4/16.2 MB 883.0 kB/s eta 0:00:16\n",
      "   ------ --------------------------------- 2.6/16.2 MB 862.9 kB/s eta 0:00:16\n",
      "   ------ --------------------------------- 2.6/16.2 MB 862.9 kB/s eta 0:00:16\n",
      "   ------- -------------------------------- 2.9/16.2 MB 818.4 kB/s eta 0:00:17\n",
      "   ------- -------------------------------- 3.1/16.2 MB 850.6 kB/s eta 0:00:16\n",
      "   -------- ------------------------------- 3.4/16.2 MB 875.5 kB/s eta 0:00:15\n",
      "   --------- ------------------------------ 3.7/16.2 MB 879.5 kB/s eta 0:00:15\n",
      "   --------- ------------------------------ 3.9/16.2 MB 903.5 kB/s eta 0:00:14\n",
      "   ---------- ----------------------------- 4.2/16.2 MB 895.7 kB/s eta 0:00:14\n",
      "   ---------- ----------------------------- 4.2/16.2 MB 895.7 kB/s eta 0:00:14\n",
      "   ----------- ---------------------------- 4.5/16.2 MB 874.5 kB/s eta 0:00:14\n",
      "   ----------- ---------------------------- 4.7/16.2 MB 888.6 kB/s eta 0:00:13\n",
      "   ----------- ---------------------------- 4.7/16.2 MB 888.6 kB/s eta 0:00:13\n",
      "   ------------ --------------------------- 5.0/16.2 MB 872.8 kB/s eta 0:00:13\n",
      "   ------------ --------------------------- 5.2/16.2 MB 895.5 kB/s eta 0:00:13\n",
      "   -------------- ------------------------- 5.8/16.2 MB 939.6 kB/s eta 0:00:12\n",
      "   -------------- ------------------------- 6.0/16.2 MB 963.8 kB/s eta 0:00:11\n",
      "   ---------------- ----------------------- 6.6/16.2 MB 1.0 MB/s eta 0:00:10\n",
      "   ---------------- ----------------------- 6.8/16.2 MB 1.0 MB/s eta 0:00:10\n",
      "   ----------------- ---------------------- 7.1/16.2 MB 1.0 MB/s eta 0:00:09\n",
      "   ----------------- ---------------------- 7.1/16.2 MB 1.0 MB/s eta 0:00:09\n",
      "   ------------------ --------------------- 7.3/16.2 MB 1.0 MB/s eta 0:00:09\n",
      "   ------------------- -------------------- 7.9/16.2 MB 1.0 MB/s eta 0:00:09\n",
      "   -------------------- ------------------- 8.1/16.2 MB 1.0 MB/s eta 0:00:08\n",
      "   -------------------- ------------------- 8.4/16.2 MB 1.0 MB/s eta 0:00:08\n",
      "   -------------------- ------------------- 8.4/16.2 MB 1.0 MB/s eta 0:00:08\n",
      "   --------------------- ------------------ 8.7/16.2 MB 1.0 MB/s eta 0:00:08\n",
      "   --------------------- ------------------ 8.7/16.2 MB 1.0 MB/s eta 0:00:08\n",
      "   ---------------------- ----------------- 8.9/16.2 MB 1.0 MB/s eta 0:00:08\n",
      "   ----------------------- ---------------- 9.4/16.2 MB 1.0 MB/s eta 0:00:07\n",
      "   ------------------------ --------------- 9.7/16.2 MB 1.0 MB/s eta 0:00:07\n",
      "   ------------------------ --------------- 9.7/16.2 MB 1.0 MB/s eta 0:00:07\n",
      "   ------------------------ --------------- 10.0/16.2 MB 1.0 MB/s eta 0:00:07\n",
      "   ------------------------- -------------- 10.2/16.2 MB 1.0 MB/s eta 0:00:06\n",
      "   ------------------------- -------------- 10.5/16.2 MB 1.0 MB/s eta 0:00:06\n",
      "   ------------------------- -------------- 10.5/16.2 MB 1.0 MB/s eta 0:00:06\n",
      "   -------------------------- ------------- 10.7/16.2 MB 1.0 MB/s eta 0:00:06\n",
      "   --------------------------- ------------ 11.0/16.2 MB 1.0 MB/s eta 0:00:05\n",
      "   --------------------------- ------------ 11.0/16.2 MB 1.0 MB/s eta 0:00:05\n",
      "   --------------------------- ------------ 11.0/16.2 MB 1.0 MB/s eta 0:00:05\n",
      "   --------------------------- ------------ 11.3/16.2 MB 986.9 kB/s eta 0:00:05\n",
      "   ---------------------------- ----------- 11.5/16.2 MB 988.3 kB/s eta 0:00:05\n",
      "   ---------------------------- ----------- 11.5/16.2 MB 988.3 kB/s eta 0:00:05\n",
      "   ---------------------------- ----------- 11.5/16.2 MB 988.3 kB/s eta 0:00:05\n",
      "   ----------------------------- ---------- 11.8/16.2 MB 972.6 kB/s eta 0:00:05\n",
      "   ----------------------------- ---------- 11.8/16.2 MB 972.6 kB/s eta 0:00:05\n",
      "   ----------------------------- ---------- 12.1/16.2 MB 958.1 kB/s eta 0:00:05\n",
      "   ------------------------------ --------- 12.3/16.2 MB 952.8 kB/s eta 0:00:05\n",
      "   ------------------------------ --------- 12.3/16.2 MB 952.8 kB/s eta 0:00:05\n",
      "   ------------------------------ --------- 12.3/16.2 MB 952.8 kB/s eta 0:00:05\n",
      "   ------------------------------- -------- 12.6/16.2 MB 936.5 kB/s eta 0:00:04\n",
      "   ------------------------------- -------- 12.8/16.2 MB 940.8 kB/s eta 0:00:04\n",
      "   ------------------------------- -------- 12.8/16.2 MB 940.8 kB/s eta 0:00:04\n",
      "   -------------------------------- ------- 13.1/16.2 MB 934.2 kB/s eta 0:00:04\n",
      "   --------------------------------- ------ 13.6/16.2 MB 944.4 kB/s eta 0:00:03\n",
      "   ---------------------------------- ----- 13.9/16.2 MB 950.4 kB/s eta 0:00:03\n",
      "   ----------------------------------- ---- 14.2/16.2 MB 954.1 kB/s eta 0:00:03\n",
      "   ----------------------------------- ---- 14.4/16.2 MB 957.7 kB/s eta 0:00:02\n",
      "   ----------------------------------- ---- 14.4/16.2 MB 957.7 kB/s eta 0:00:02\n",
      "   ------------------------------------ --- 14.9/16.2 MB 965.6 kB/s eta 0:00:02\n"
     ]
    },
    {
     "name": "stderr",
     "output_type": "stream",
     "text": [
      "  WARNING: The script pyproj.exe is installed in 'C:\\Users\\Abdoulie Balisa\\AppData\\Roaming\\Python\\Python312\\Scripts' which is not on PATH.\n",
      "  Consider adding this directory to PATH or, if you prefer to suppress this warning, use --no-warn-script-location.\n"
     ]
    },
    {
     "name": "stdout",
     "output_type": "stream",
     "text": [
      "   ------------------------------------- -- 15.2/16.2 MB 972.9 kB/s eta 0:00:01\n",
      "   -------------------------------------- - 15.5/16.2 MB 971.2 kB/s eta 0:00:01\n",
      "   -------------------------------------- - 15.5/16.2 MB 971.2 kB/s eta 0:00:01\n",
      "   -------------------------------------- - 15.5/16.2 MB 971.2 kB/s eta 0:00:01\n",
      "   -------------------------------------- - 15.7/16.2 MB 961.1 kB/s eta 0:00:01\n",
      "   ---------------------------------------  16.0/16.2 MB 956.9 kB/s eta 0:00:01\n",
      "   ---------------------------------------  16.0/16.2 MB 956.9 kB/s eta 0:00:01\n",
      "   ---------------------------------------- 16.2/16.2 MB 951.8 kB/s eta 0:00:00\n",
      "Downloading pyproj-3.7.1-cp312-cp312-win_amd64.whl (6.3 MB)\n",
      "   ---------------------------------------- 0.0/6.3 MB ? eta -:--:--\n",
      "   - -------------------------------------- 0.3/6.3 MB ? eta -:--:--\n",
      "   - -------------------------------------- 0.3/6.3 MB ? eta -:--:--\n",
      "   - -------------------------------------- 0.3/6.3 MB ? eta -:--:--\n",
      "   - -------------------------------------- 0.3/6.3 MB ? eta -:--:--\n",
      "   - -------------------------------------- 0.3/6.3 MB ? eta -:--:--\n",
      "   - -------------------------------------- 0.3/6.3 MB ? eta -:--:--\n",
      "   --- ------------------------------------ 0.5/6.3 MB 226.8 kB/s eta 0:00:26\n",
      "   ----- ---------------------------------- 0.8/6.3 MB 349.5 kB/s eta 0:00:16\n",
      "   ----- ---------------------------------- 0.8/6.3 MB 349.5 kB/s eta 0:00:16\n",
      "   ----- ---------------------------------- 0.8/6.3 MB 349.5 kB/s eta 0:00:16\n",
      "   ------ --------------------------------- 1.0/6.3 MB 370.1 kB/s eta 0:00:15\n",
      "   ------ --------------------------------- 1.0/6.3 MB 370.1 kB/s eta 0:00:15\n",
      "   -------- ------------------------------- 1.3/6.3 MB 422.1 kB/s eta 0:00:12\n",
      "   ---------- ----------------------------- 1.6/6.3 MB 487.8 kB/s eta 0:00:10\n",
      "   ---------- ----------------------------- 1.6/6.3 MB 487.8 kB/s eta 0:00:10\n",
      "   ----------- ---------------------------- 1.8/6.3 MB 498.4 kB/s eta 0:00:09\n",
      "   ----------- ---------------------------- 1.8/6.3 MB 498.4 kB/s eta 0:00:09\n",
      "   ------------- -------------------------- 2.1/6.3 MB 515.2 kB/s eta 0:00:09\n",
      "   ------------- -------------------------- 2.1/6.3 MB 515.2 kB/s eta 0:00:09\n",
      "   --------------- ------------------------ 2.4/6.3 MB 539.1 kB/s eta 0:00:08\n",
      "   --------------- ------------------------ 2.4/6.3 MB 539.1 kB/s eta 0:00:08\n",
      "   ---------------- ----------------------- 2.6/6.3 MB 549.1 kB/s eta 0:00:07\n",
      "   ---------------- ----------------------- 2.6/6.3 MB 549.1 kB/s eta 0:00:07\n",
      "   ------------------ --------------------- 2.9/6.3 MB 553.7 kB/s eta 0:00:07\n",
      "   ------------------ --------------------- 2.9/6.3 MB 553.7 kB/s eta 0:00:07\n",
      "   -------------------- ------------------- 3.1/6.3 MB 562.6 kB/s eta 0:00:06\n",
      "   --------------------- ------------------ 3.4/6.3 MB 585.3 kB/s eta 0:00:05\n",
      "   ----------------------- ---------------- 3.7/6.3 MB 604.2 kB/s eta 0:00:05\n",
      "   ----------------------- ---------------- 3.7/6.3 MB 604.2 kB/s eta 0:00:05\n",
      "   ------------------------- -------------- 3.9/6.3 MB 619.7 kB/s eta 0:00:04\n",
      "   -------------------------- ------------- 4.2/6.3 MB 633.9 kB/s eta 0:00:04\n",
      "   -------------------------- ------------- 4.2/6.3 MB 633.9 kB/s eta 0:00:04\n",
      "   ---------------------------- ----------- 4.5/6.3 MB 628.6 kB/s eta 0:00:03\n",
      "   ---------------------------- ----------- 4.5/6.3 MB 628.6 kB/s eta 0:00:03\n",
      "   ------------------------------ --------- 4.7/6.3 MB 639.6 kB/s eta 0:00:03\n",
      "   ------------------------------- -------- 5.0/6.3 MB 641.2 kB/s eta 0:00:03\n",
      "   ------------------------------- -------- 5.0/6.3 MB 641.2 kB/s eta 0:00:03\n",
      "   --------------------------------- ------ 5.2/6.3 MB 654.6 kB/s eta 0:00:02\n",
      "   ----------------------------------- ---- 5.5/6.3 MB 667.1 kB/s eta 0:00:02\n",
      "   ------------------------------------ --- 5.8/6.3 MB 675.0 kB/s eta 0:00:01\n",
      "   -------------------------------------- - 6.0/6.3 MB 687.4 kB/s eta 0:00:01\n",
      "   -------------------------------------- - 6.0/6.3 MB 687.4 kB/s eta 0:00:01\n",
      "   ---------------------------------------- 6.3/6.3 MB 693.2 kB/s eta 0:00:00\n",
      "Installing collected packages: shapely, pyproj, pyogrio, geopandas\n",
      "Successfully installed geopandas-1.0.1 pyogrio-0.10.0 pyproj-3.7.1 shapely-2.0.7\n"
     ]
    }
   ],
   "source": [
    "!pip install geopandas shapely"
   ]
  },
  {
   "cell_type": "code",
   "execution_count": 3,
   "id": "ec970751-04d1-4f52-9e06-747cd9f39485",
   "metadata": {},
   "outputs": [
    {
     "ename": "ModuleNotFoundError",
     "evalue": "No module named 'google.colab'",
     "output_type": "error",
     "traceback": [
      "\u001b[1;31m---------------------------------------------------------------------------\u001b[0m",
      "\u001b[1;31mModuleNotFoundError\u001b[0m                       Traceback (most recent call last)",
      "Cell \u001b[1;32mIn[3], line 4\u001b[0m\n\u001b[0;32m      2\u001b[0m \u001b[38;5;28;01mimport\u001b[39;00m \u001b[38;5;21;01mgeopandas\u001b[39;00m \u001b[38;5;28;01mas\u001b[39;00m \u001b[38;5;21;01mgpd\u001b[39;00m\n\u001b[0;32m      3\u001b[0m \u001b[38;5;28;01mfrom\u001b[39;00m \u001b[38;5;21;01mshapely\u001b[39;00m\u001b[38;5;21;01m.\u001b[39;00m\u001b[38;5;21;01mgeometry\u001b[39;00m \u001b[38;5;28;01mimport\u001b[39;00m Point\n\u001b[1;32m----> 4\u001b[0m \u001b[38;5;28;01mfrom\u001b[39;00m \u001b[38;5;21;01mgoogle\u001b[39;00m\u001b[38;5;21;01m.\u001b[39;00m\u001b[38;5;21;01mcolab\u001b[39;00m \u001b[38;5;28;01mimport\u001b[39;00m files\n\u001b[0;32m      5\u001b[0m \u001b[38;5;28;01mimport\u001b[39;00m \u001b[38;5;21;01mzipfile\u001b[39;00m\n\u001b[0;32m      6\u001b[0m \u001b[38;5;28;01mimport\u001b[39;00m \u001b[38;5;21;01mos\u001b[39;00m\n",
      "\u001b[1;31mModuleNotFoundError\u001b[0m: No module named 'google.colab'"
     ]
    }
   ],
   "source": [
    "import pandas as pd\n",
    "import geopandas as gpd\n",
    "from shapely.geometry import Point\n",
    "from google.colab import files\n",
    "import zipfile\n",
    "import os\n",
    "import folium\n",
    "\n",
    "# Upload the zip file containing the shapefile\n",
    "uploaded = files.upload()\n",
    "\n",
    "# Unzip the uploaded file\n",
    "for filename in uploaded.keys():\n",
    "    if filename.endswith('.zip'):\n",
    "        with zipfile.ZipFile(filename, 'r') as zip_ref:\n",
    "            zip_ref.extractall(\"unzipped_shapefile\")\n",
    "        print(f\"Unzipped {filename} into 'unzipped_shapefile' folder.\")\n",
    "        break\n",
    "\n",
    "# Ensure Longitude and Latitude exist in df\n",
    "if \"Longitude\" in df.columns and \"Latitude\" in df.columns:\n",
    "    # Convert Longitude and Latitude to geometry points\n",
    "    geometry = [Point(xy) for xy in zip(df[\"Longitude\"], df[\"Latitude\"])]\n",
    "    gdf = gpd.GeoDataFrame(df, geometry=geometry)\n",
    "\n",
    "    # Path to the unzipped shapefile (assuming only one .shp file is in the folder)\n",
    "    shapefile_path = None\n",
    "    for file in os.listdir(\"unzipped_shapefile\"):\n",
    "        if file.endswith('.shp'):\n",
    "            shapefile_path = os.path.join(\"unzipped_shapefile\", file)\n",
    "            break\n",
    "\n",
    "    if shapefile_path:\n",
    "        try:\n",
    "            # Read the shapefile\n",
    "            world = gpd.read_file(shapefile_path)\n",
    "\n",
    "            # Create a base map centered on the mean of the coordinates\n",
    "            map_center = [gdf['Latitude'].mean(), gdf['Longitude'].mean()]\n",
    "            my_map = folium.Map(location=map_center, zoom_start=4)\n",
    "\n",
    "            # Add the shapefile to the map\n",
    "            folium.GeoJson(world).add_to(my_map)\n",
    "\n",
    "            # Add restaurant locations to the map\n",
    "            for idx, row in gdf.iterrows():\n",
    "                folium.CircleMarker(\n",
    "                    location=[row['Latitude'], row['Longitude']],\n",
    "                    radius=5,\n",
    "                    color='red',\n",
    "                    fill=True,\n",
    "                    fill_color='red',\n",
    "                    fill_opacity=0.7,\n",
    "                    popup=f\"Restaurant: {row.get('Name', 'N/A')}\"  # Add a popup with restaurant name (if available)\n",
    "                ).add_to(my_map)\n",
    "\n",
    "            # Display the map\n",
    "            display(my_map)\n",
    "\n",
    "        except Exception as e:\n",
    "            print(f\"Error loading shapefile: {e}\")\n",
    "    else:\n",
    "        print(\"No .shp file found in the unzipped folder.\")\n",
    "else:\n",
    "    print(\"Longitude and Latitude columns not found in the dataset.\")"
   ]
  },
  {
   "cell_type": "code",
   "execution_count": null,
   "id": "f72030b6-10d9-4779-9307-18d86f94ab3f",
   "metadata": {},
   "outputs": [],
   "source": [
    "import matplotlib.pyplot as plt\n",
    "import geopandas as gpd\n",
    "from shapely.geometry import Point\n",
    "from google.colab import files\n",
    "import zipfile\n",
    "import os\n",
    "\n",
    "# Upload the zip file containing the shapefile\n",
    "uploaded = files.upload()\n",
    "\n",
    "# Unzip the uploaded file\n",
    "for filename in uploaded.keys():\n",
    "    if filename.endswith('.zip'):\n",
    "        with zipfile.ZipFile(filename, 'r') as zip_ref:\n",
    "            zip_ref.extractall(\"unzipped_shapefile\")\n",
    "        print(f\"Unzipped {filename} into 'unzipped_shapefile' folder.\")\n",
    "        break\n",
    "\n",
    "# Ensure Longitude and Latitude exist in df\n",
    "if \"Longitude\" in df.columns and \"Latitude\" in df.columns:\n",
    "    # Convert Longitude and Latitude to geometry points\n",
    "    geometry = [Point(xy) for xy in zip(df[\"Longitude\"], df[\"Latitude\"])]\n",
    "    gdf = gpd.GeoDataFrame(df, geometry=geometry)\n",
    "\n",
    "    # Path to the unzipped shapefile (assuming only one .shp file is in the folder)\n",
    "    shapefile_path = None\n",
    "    for file in os.listdir(\"unzipped_shapefile\"):\n",
    "        if file.endswith('.shp'):\n",
    "            shapefile_path = os.path.join(\"unzipped_shapefile\", file)\n",
    "            break\n",
    "\n",
    "    if shapefile_path:\n",
    "        try:\n",
    "            # Read the shapefile\n",
    "            world = gpd.read_file(shapefile_path)\n",
    "\n",
    "            # Plot restaurant locations\n",
    "            plt.figure(figsize=(10, 6))\n",
    "            world.plot(ax=plt.gca(), color=\"lightgray\", edgecolor=\"black\")\n",
    "            gdf.plot(ax=plt.gca(), markersize=5, alpha=0.5, color=\"red\")\n",
    "            plt.title(\"Restaurant Locations\")\n",
    "            plt.xlabel(\"Longitude\")\n",
    "            plt.ylabel(\"Latitude\")\n",
    "            plt.show()\n",
    "        except Exception as e:\n",
    "            print(f\"Error loading shapefile: {e}\")\n",
    "    else:\n",
    "        print(\"No .shp file found in the unzipped folder.\")\n",
    "else:\n",
    "    print(\"Longitude and Latitude columns not found in the dataset.\")"
   ]
  },
  {
   "cell_type": "code",
   "execution_count": null,
   "id": "cf8b7110-f200-47b8-83d1-029306552e8d",
   "metadata": {},
   "outputs": [],
   "source": []
  }
 ],
 "metadata": {
  "kernelspec": {
   "display_name": "Python 3 (ipykernel)",
   "language": "python",
   "name": "python3"
  },
  "language_info": {
   "codemirror_mode": {
    "name": "ipython",
    "version": 3
   },
   "file_extension": ".py",
   "mimetype": "text/x-python",
   "name": "python",
   "nbconvert_exporter": "python",
   "pygments_lexer": "ipython3",
   "version": "3.12.7"
  }
 },
 "nbformat": 4,
 "nbformat_minor": 5
}
